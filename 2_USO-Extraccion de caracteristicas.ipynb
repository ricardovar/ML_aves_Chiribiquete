{
 "cells": [
  {
   "cell_type": "markdown",
   "metadata": {},
   "source": [
    "# Extracción de las Características del corte de Audio"
   ]
  },
  {
   "cell_type": "markdown",
   "metadata": {},
   "source": [
    "El siguiente codigo realiza la extraccion de las caracteristicas del corte de audio 'WAV' y el archivo 'TXT'"
   ]
  },
  {
   "cell_type": "code",
   "execution_count": 76,
   "metadata": {},
   "outputs": [],
   "source": [
    "import librosa\n",
    "from librosa import feature\n",
    "from librosa import onset\n",
    "import numpy as np\n",
    "import pandas as pd\n",
    "from glob import glob\n",
    "import csv\n",
    "from sklearn.model_selection import train_test_split"
   ]
  },
  {
   "cell_type": "markdown",
   "metadata": {},
   "source": [
    "Estableciendo directorios de trabajo"
   ]
  },
  {
   "cell_type": "code",
   "execution_count": 77,
   "metadata": {},
   "outputs": [],
   "source": [
    "data_dir = 'C:\\\\Data\\\\6_Clasificacion\\\\in'\n",
    "data_out = 'C:\\\\Data\\\\6_Clasificacion\\\\out' \n",
    "audio_files = glob(data_dir + '/*.wav')\n",
    "txt_files = glob(data_dir + '/*.txt')\n",
    "#print(audio_files)"
   ]
  },
  {
   "cell_type": "markdown",
   "metadata": {},
   "source": [
    "Funciones y arreglos"
   ]
  },
  {
   "cell_type": "code",
   "execution_count": 78,
   "metadata": {},
   "outputs": [],
   "source": [
    "fn_list_i = [\n",
    " feature.chroma_stft,\n",
    " feature.chroma_cqt,\n",
    " feature.chroma_cens,\n",
    " feature.spectral_centroid,\n",
    " feature.spectral_bandwidth,\n",
    " feature.spectral_rolloff,\n",
    " feature.mfcc,\n",
    " feature.melspectrogram,\n",
    " onset.onset_detect\n",
    "]\n",
    " \n",
    "fn_list_ii = [\n",
    " feature.rmse,\n",
    " feature.zero_crossing_rate\n",
    "]\n",
    "\n",
    "header =[\n",
    " 'Audio',\n",
    " 'especie',\n",
    " 'chroma_stft',\n",
    " 'chroma_cqt',\n",
    " 'chroma_cens',\n",
    " 'spectral_centroid',\n",
    " 'spectral_bandwidth',\n",
    " 'spectral_rolloff',\n",
    " 'mfcc',\n",
    " 'melspectrogram',\n",
    " 'onset_detect',\n",
    " 'rmse',\n",
    " 'zero_crossing_rate',\n",
    " 'Corte',\n",
    " 'startime',\n",
    " 'finishtime',\n",
    " 'id',\n",
    " 'freqmin',\n",
    " 'freqmax' \n",
    "]\n",
    "\n",
    "def crear_archivo(ruta):\n",
    "    archivo = open(ruta, 'w')\n",
    "    return archivo\n",
    "    \n",
    "    \n",
    "def leer_archivo (archivo):\n",
    "    arch1 = open(archivo, 'r')\n",
    "    contenido = arch1.read()\n",
    "    return contenido\n",
    "    \n",
    "    \n",
    "def escribir_archivo(archivo, texto):\n",
    "    archivo.write(texto)\n",
    "\n",
    "def get_feature_vector(file, etiqueta, y,sr): \n",
    "   feat_vect = [file]\n",
    "   feat_vect_i = [ np.mean(funct(y,sr)) for funct in fn_list_i]\n",
    "   feat_vect_ii = [ np.mean(funct(y)) for funct in fn_list_ii]\n",
    "   feat_vect_iii = [(etiqueta)]\n",
    "   feature_vector = feat_vect + feat_vect_iii + feat_vect_i + feat_vect_ii \n",
    "#print(feature_vector)\n",
    "   return feature_vector\n",
    "\n",
    "\n",
    "def get_features_texto(file_txt):\n",
    "    cont = leer_archivo(file_txt)\n",
    "    #cont = cont.replace(\"'\",\"\")\n",
    "    lista = cont.split(\",\") \n",
    "    datos = [str(lista[0])] + [float(lista[1])] + [float(lista[2])] + [str(lista[3])] + [float(lista[4])] + [float(lista[5])]\n",
    "    #print(datos)\n",
    "    return datos"
   ]
  },
  {
   "cell_type": "markdown",
   "metadata": {},
   "source": [
    "Generando Vector de Trabajo"
   ]
  },
  {
   "cell_type": "code",
   "execution_count": 79,
   "metadata": {},
   "outputs": [],
   "source": [
    "audios_feat = []\n",
    "for file in audio_files:\n",
    "   y, sr = librosa.load(file,sr=None)\n",
    "   #print(file)\n",
    "   filename = file.replace(data_dir + '\\\\', '')\n",
    "   etiqueta = 'para_clasificar'\n",
    "   file_txt = file[0:len(file)-4]+'.txt'\n",
    "   text_vector = get_features_texto(file_txt)\n",
    "   feature_vector = get_feature_vector(filename, etiqueta, y, sr)\n",
    "   audios_feat.append(feature_vector + text_vector) \n"
   ]
  },
  {
   "cell_type": "markdown",
   "metadata": {},
   "source": [
    "Definiendo DATAFRAME y archivo CSV"
   ]
  },
  {
   "cell_type": "code",
   "execution_count": 80,
   "metadata": {},
   "outputs": [],
   "source": [
    "norm_output = data_out+'\\\\df_'+etiqueta+'.csv'\n",
    "norm_output = norm_output.replace('//', '/')\n",
    "df = pd.DataFrame(audios_feat)\n",
    "df.columns = header \n",
    "tiempo=df['finishtime']-df['startime']\n",
    "df=df.assign(duration=tiempo)\n",
    "del df['startime']\n",
    "del df['finishtime']\n",
    "del df['Audio']\n",
    "del df['Corte']\n",
    "del df['id']\n",
    "del df['especie']\n",
    "df.to_csv(norm_output)"
   ]
  },
  {
   "cell_type": "markdown",
   "metadata": {},
   "source": [
    "Aqui termina la extracion de las caracteristicas"
   ]
  },
  {
   "cell_type": "markdown",
   "metadata": {},
   "source": [
    "datos = 'C:\\\\Data\\\\2_Preprocesamiento\\\\Pruebas_8\\\\Todos.csv'\n",
    "dataframe = pd.read_csv(datos,sep=',')"
   ]
  },
  {
   "cell_type": "markdown",
   "metadata": {},
   "source": [
    "del dataframe['spectral_flatness']\n",
    "del dataframe['feature.tonnetz']\n",
    "del dataframe['pitch']"
   ]
  },
  {
   "cell_type": "markdown",
   "metadata": {},
   "source": [
    "dataframe.to_csv('C:\\\\Data\\\\2_Preprocesamiento\\\\Pruebas_9\\\\Todos.csv')"
   ]
  },
  {
   "cell_type": "code",
   "execution_count": null,
   "metadata": {},
   "outputs": [],
   "source": []
  }
 ],
 "metadata": {
  "kernelspec": {
   "display_name": "Python 3",
   "language": "python",
   "name": "python3"
  },
  "language_info": {
   "codemirror_mode": {
    "name": "ipython",
    "version": 3
   },
   "file_extension": ".py",
   "mimetype": "text/x-python",
   "name": "python",
   "nbconvert_exporter": "python",
   "pygments_lexer": "ipython3",
   "version": "3.7.1"
  }
 },
 "nbformat": 4,
 "nbformat_minor": 2
}
