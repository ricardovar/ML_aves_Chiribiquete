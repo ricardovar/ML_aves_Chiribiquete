{
 "cells": [
  {
   "cell_type": "markdown",
   "metadata": {},
   "source": [
    "# Pre-procesamiento de los archivos de audio"
   ]
  },
  {
   "cell_type": "markdown",
   "metadata": {},
   "source": [
    "El codigo realiza el alistamiento de los archivos de texto, resultado de la exportacion  de las etiquetas de las regiones de interes del programa Audacity"
   ]
  },
  {
   "cell_type": "code",
   "execution_count": 12,
   "metadata": {},
   "outputs": [],
   "source": [
    "from glob import glob\n",
    "# Directorio con los datos crudos\n",
    "input_dir_txt = 'C:\\\\Data\\\\6_Clasificacion\\\\'\n",
    "# Directorio con el primer preprosesamiento\n",
    "output_dir_txt = 'C:\\\\Data\\\\6_Clasificacion\\\\in\\\\'\n",
    "txt_files = glob(input_dir_txt + '/*.txt')\n"
   ]
  },
  {
   "cell_type": "code",
   "execution_count": 13,
   "metadata": {},
   "outputs": [],
   "source": [
    "def crear_archivo(ruta):\n",
    "    archivo = open(ruta, 'w')\n",
    "    return archivo\n",
    "    \n",
    "def leer_archivo (archivo):\n",
    "    contenido = archivo.read()\n",
    "    return contenido\n",
    "    \n",
    "def escribir_archivo(archivo, texto):\n",
    "    archivo.write(texto)"
   ]
  },
  {
   "cell_type": "code",
   "execution_count": 14,
   "metadata": {},
   "outputs": [],
   "source": [
    "def exporta_archivo(FileContent,file,name,output_dir_txt):\n",
    "    lista=[]\n",
    "    cuenta = 1\n",
    "    linea = \"\"\n",
    "    id =1\n",
    "    contenido = \"\"\n",
    "    nombretxt = \"\"\n",
    "    for fileline in FileContent: \n",
    "\n",
    "        fileline = fileline.replace('\\\\\\t',', ')\n",
    "        fileline = fileline.replace('\\t',', ')\n",
    "        fileline = fileline.replace('\\n','')\n",
    "        indice = cuenta % 2\n",
    "\n",
    "        if indice == 0:\n",
    "            contenido = linea + fileline\n",
    "\n",
    "            escribir_archivo(arch, contenido)\n",
    "            print(arch)\n",
    "            lista.append(contenido)\n",
    "            linea = \"\"\n",
    "            id = id + 1\n",
    "        else:\n",
    "            nombre_id = name +\"-\"+f\"{id:02}\"\n",
    "            nombretxt = output_dir_txt + nombre_id + \".txt\"\n",
    "            arch = crear_archivo(nombretxt)\n",
    "            linea = nombre_id + \", \" + fileline\n",
    "\n",
    "        cuenta = cuenta + 1\n"
   ]
  },
  {
   "cell_type": "markdown",
   "metadata": {},
   "source": [
    "Lectura de los archivos TXT"
   ]
  },
  {
   "cell_type": "code",
   "execution_count": 15,
   "metadata": {},
   "outputs": [
    {
     "name": "stdout",
     "output_type": "stream",
     "text": [
      "PaisajeSonoro_1\n",
      "<_io.TextIOWrapper name='C:\\\\Data\\\\6_Clasificacion\\\\in\\\\PaisajeSonoro_1-01.txt' mode='w' encoding='cp1252'>\n"
     ]
    }
   ],
   "source": [
    "for file in txt_files:\n",
    "    FileContent=[]\n",
    "    filename = file.replace(input_dir_txt, '')\n",
    "    name = filename[0:len(filename)-4]\n",
    "    print(name)\n",
    "    with open (file, 'r+') as file:\n",
    "        FileContent = file.readlines()\n",
    "    exporta_archivo(FileContent, file, name,output_dir_txt)\n",
    "    "
   ]
  },
  {
   "cell_type": "code",
   "execution_count": null,
   "metadata": {},
   "outputs": [],
   "source": []
  },
  {
   "cell_type": "code",
   "execution_count": null,
   "metadata": {},
   "outputs": [],
   "source": []
  }
 ],
 "metadata": {
  "kernelspec": {
   "display_name": "Python 3",
   "language": "python",
   "name": "python3"
  },
  "language_info": {
   "codemirror_mode": {
    "name": "ipython",
    "version": 3
   },
   "file_extension": ".py",
   "mimetype": "text/x-python",
   "name": "python",
   "nbconvert_exporter": "python",
   "pygments_lexer": "ipython3",
   "version": "3.7.1"
  }
 },
 "nbformat": 4,
 "nbformat_minor": 2
}
