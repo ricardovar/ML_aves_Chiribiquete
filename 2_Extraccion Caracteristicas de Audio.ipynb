{
 "cells": [
  {
   "cell_type": "markdown",
   "metadata": {},
   "source": [
    "# EXTRACION DE CARACTERISTICAS DE AUDIO"
   ]
  },
  {
   "cell_type": "markdown",
   "metadata": {},
   "source": [
    "Relacionando librerias"
   ]
  },
  {
   "cell_type": "code",
   "execution_count": 292,
   "metadata": {},
   "outputs": [],
   "source": [
    "import librosa\n",
    "from librosa import feature\n",
    "import numpy as np\n",
    "import pandas as pd\n",
    "from glob import glob\n",
    "import csv"
   ]
  },
  {
   "cell_type": "markdown",
   "metadata": {},
   "source": [
    "Estableciendo directorios de trabajo"
   ]
  },
  {
   "cell_type": "code",
   "execution_count": 293,
   "metadata": {},
   "outputs": [],
   "source": [
    "data_dir = 'C:\\\\Data\\\\2_Preprocesamiento\\\\Pruebas_5\\\\0_Sin_clasificar'\n",
    "raiz = 'C:\\\\Data\\\\2_Preprocesamiento\\\\Pruebas_5\\\\' \n",
    "audio_files = glob(data_dir + '/*.wav')\n",
    "txt_files = glob(data_dir + '/*.txt')\n",
    "#print(audio_files)"
   ]
  },
  {
   "cell_type": "markdown",
   "metadata": {},
   "source": [
    "Funciones y arreglos"
   ]
  },
  {
   "cell_type": "code",
   "execution_count": 294,
   "metadata": {},
   "outputs": [],
   "source": [
    "fn_list_i = [\n",
    " feature.chroma_stft,\n",
    " feature.spectral_centroid,\n",
    " feature.spectral_bandwidth,\n",
    " feature.spectral_rolloff,\n",
    " feature.mfcc,\n",
    " feature.melspectrogram\n",
    "]\n",
    " \n",
    "fn_list_ii = [\n",
    " feature.rmse,\n",
    " feature.zero_crossing_rate\n",
    "]\n",
    "\n",
    "header =[\n",
    " 'Audio',\n",
    " 'especie',\n",
    " 'chroma_stft',\n",
    " 'spectral_centroid',\n",
    " 'spectral_bandwidth',\n",
    " 'spectral_rolloff',\n",
    " 'mfcc',\n",
    " 'melspectrogram',\n",
    " 'rmse',\n",
    " 'zero_crossing_rate',\n",
    " 'pitch',\n",
    " 'Corte',\n",
    " 'startime',\n",
    " 'finishtime',\n",
    " 'id',\n",
    " 'freqmin',\n",
    " 'freqmax' \n",
    "]\n",
    "\n",
    "def crear_archivo(ruta):\n",
    "    archivo = open(ruta, 'w')\n",
    "    return archivo\n",
    "    \n",
    "    \n",
    "def leer_archivo (archivo):\n",
    "    arch1 = open(archivo, 'r')\n",
    "    contenido = arch1.read()\n",
    "    return contenido\n",
    "    \n",
    "    \n",
    "def escribir_archivo(archivo, texto):\n",
    "    archivo.write(texto)\n",
    "\n",
    "def get_feature_vector(file, etiqueta, y,sr): \n",
    "   feat_vect = [file]\n",
    "   feat_vect_i = [ np.mean(funct(y,sr)) for funct in fn_list_i]\n",
    "   feat_vect_ii = [ np.mean(funct(y)) for funct in fn_list_ii]\n",
    "   feat_vect_iii = [(etiqueta)]\n",
    "   feature_vector = feat_vect + feat_vect_iii + feat_vect_i + feat_vect_ii \n",
    "#print(feature_vector)\n",
    "   return feature_vector\n",
    "\n",
    "def get_pitches(y,sr):\n",
    "    # Track frequencies from a real spectrogram\n",
    "    pitches, magnitudes = librosa.piptrack(y, sr)\n",
    "    # Select out pitches with high energy\n",
    "    pitches = pitches[magnitudes > np.median(magnitudes)]\n",
    "    pitch = librosa.pitch_tuning(pitches)\n",
    "    return pitch\n",
    "\n",
    "def get_features_texto(file_txt):\n",
    "    cont = leer_archivo(file_txt)\n",
    "    #cont = cont.replace(\"'\",\"\")\n",
    "    lista = cont.split(\",\") \n",
    "    datos = [str(lista[0])] + [float(lista[1])] + [float(lista[2])] + [str(lista[3])] + [float(lista[4])] + [float(lista[5])]\n",
    "    #print(datos)\n",
    "    return datos"
   ]
  },
  {
   "cell_type": "markdown",
   "metadata": {},
   "source": [
    "Generando Vector de Trabajo"
   ]
  },
  {
   "cell_type": "code",
   "execution_count": 295,
   "metadata": {},
   "outputs": [],
   "source": [
    "audios_feat = []\n",
    "for file in audio_files:\n",
    "   y, sr = librosa.load(file,sr=None)\n",
    "   #print(file)\n",
    "   filename = file.replace(data_dir + '\\\\', '')\n",
    "   etiqueta = file.replace(raiz, '')\n",
    "   etiqueta = etiqueta.replace('\\\\'+filename, '')\n",
    "   file_txt = file[0:len(file)-4]+'.txt'\n",
    "   #print(file_txt)\n",
    "   text_vector = get_features_texto(file_txt)\n",
    "   feature_vector = get_feature_vector(filename, etiqueta, y, sr)\n",
    "   pitch_vector = get_pitches(y,sr)\n",
    "   audios_feat.append(feature_vector + [pitch_vector]+ text_vector) "
   ]
  },
  {
   "cell_type": "markdown",
   "metadata": {},
   "source": [
    "Definiendo DATAFRAME y archivo CSV"
   ]
  },
  {
   "cell_type": "code",
   "execution_count": 296,
   "metadata": {},
   "outputs": [],
   "source": [
    "norm_output = raiz+'df_'+etiqueta+'.csv'\n",
    "norm_output = norm_output.replace('//', '/')\n",
    "df = pd.DataFrame(audios_feat)\n",
    "df.columns = header \n",
    "tiempo=df['finishtime']-df['startime']\n",
    "df=df.assign(duration=tiempo)\n",
    "del df['startime']\n",
    "del df['finishtime']\n",
    "df.to_csv(norm_output)"
   ]
  },
  {
   "cell_type": "code",
   "execution_count": 6,
   "metadata": {},
   "outputs": [],
   "source": []
  },
  {
   "cell_type": "code",
   "execution_count": null,
   "metadata": {},
   "outputs": [],
   "source": []
  },
  {
   "cell_type": "code",
   "execution_count": null,
   "metadata": {},
   "outputs": [],
   "source": []
  }
 ],
 "metadata": {
  "kernelspec": {
   "display_name": "Python 3",
   "language": "python",
   "name": "python3"
  },
  "language_info": {
   "codemirror_mode": {
    "name": "ipython",
    "version": 3
   },
   "file_extension": ".py",
   "mimetype": "text/x-python",
   "name": "python",
   "nbconvert_exporter": "python",
   "pygments_lexer": "ipython3",
   "version": "3.7.1"
  }
 },
 "nbformat": 4,
 "nbformat_minor": 2
}
